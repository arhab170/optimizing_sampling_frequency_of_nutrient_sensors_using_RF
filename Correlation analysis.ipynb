{
 "cells": [
  {
   "cell_type": "code",
   "execution_count": null,
   "id": "f5308307",
   "metadata": {},
   "outputs": [],
   "source": [
    "import pandas as pd\n",
    "import seaborn as sns\n",
    "import matplotlib.pyplot as plt\n",
    "import numpy as np\n",
    "from tqdm import tqdm"
   ]
  },
  {
   "cell_type": "code",
   "execution_count": null,
   "id": "7f130485",
   "metadata": {},
   "outputs": [],
   "source": [
    "station = \"kahl\"\n",
    "parameter = \"OPO4P\"\n",
    "#  ***  a = 0 for kahl am main\n",
    "#        a = 1 for erlabrunn ***\n",
    "a = 0"
   ]
  },
  {
   "cell_type": "code",
   "execution_count": null,
   "id": "2dc50e1f",
   "metadata": {},
   "outputs": [],
   "source": [
    "X_NAMES = ['O2', 'Temp', 'Conduct','pH', 'flow']\n",
    "Y_NAMES = [parameter]"
   ]
  },
  {
   "cell_type": "code",
   "execution_count": null,
   "id": "2482d653",
   "metadata": {},
   "outputs": [],
   "source": [
    "df_DC = pd.read_csv('%s_cleaned_interpolated.csv' %station)\n",
    "df_DC['Datum'] = pd.to_datetime(df_DC['Datum'])\n",
    "df_DC= df_DC.set_index(\"Datum\")"
   ]
  },
  {
   "cell_type": "code",
   "execution_count": null,
   "id": "33c4d2ea",
   "metadata": {},
   "outputs": [],
   "source": [
    "if a ==0:\n",
    "    df_DC = df_DC[['O2', 'Temp', 'Conduct','pH', 'flow', 'NO3N', 'OPO4P', \"NH4N\" ]]\n",
    "elif a == 1:\n",
    "    df_DC = df_DC[['O2', 'Temp', 'Conduct','pH', 'flow', 'NO3N', 'OPO4P' ]]\n",
    "df_DC"
   ]
  },
  {
   "cell_type": "code",
   "execution_count": null,
   "id": "da4143b4",
   "metadata": {},
   "outputs": [],
   "source": [
    "# sns.pairplot(df_DC)"
   ]
  },
  {
   "cell_type": "code",
   "execution_count": null,
   "id": "b1f7638e",
   "metadata": {},
   "outputs": [],
   "source": [
    "corr = df_DC.corr()\n",
    "corr = corr.loc[:,Y_NAMES]\n",
    "plt.figure(figsize=(10, 10))\n",
    "corr = corr.iloc[(-corr[parameter].abs()).argsort()]\n",
    "sns.heatmap(corr, annot = True)\n",
    "corr"
   ]
  },
  {
   "cell_type": "code",
   "execution_count": null,
   "id": "820f9e9e",
   "metadata": {},
   "outputs": [],
   "source": [
    "corr= corr.drop([\"NH4N\", \"OPO4P\", \"NO3N\"],axis =0)\n",
    "corr"
   ]
  },
  {
   "cell_type": "code",
   "execution_count": null,
   "id": "2e857de2",
   "metadata": {},
   "outputs": [],
   "source": [
    "feature_list = list(corr.index)\n",
    "print(feature_list)"
   ]
  },
  {
   "cell_type": "code",
   "execution_count": null,
   "id": "276018e8",
   "metadata": {},
   "outputs": [],
   "source": [
    "x = corr.index"
   ]
  },
  {
   "cell_type": "code",
   "execution_count": null,
   "id": "08bc574b",
   "metadata": {},
   "outputs": [],
   "source": [
    "corr[[\"OPO4P\"]]"
   ]
  },
  {
   "cell_type": "code",
   "execution_count": null,
   "id": "44971370",
   "metadata": {},
   "outputs": [],
   "source": [
    "corr.loc[\"pH\"]"
   ]
  },
  {
   "cell_type": "code",
   "execution_count": null,
   "id": "14cbba69",
   "metadata": {},
   "outputs": [],
   "source": [
    "for i in x:\n",
    "    print(corr.loc[i])"
   ]
  }
 ],
 "metadata": {
  "kernelspec": {
   "display_name": "Python 3",
   "language": "python",
   "name": "python3"
  },
  "language_info": {
   "codemirror_mode": {
    "name": "ipython",
    "version": 3
   },
   "file_extension": ".py",
   "mimetype": "text/x-python",
   "name": "python",
   "nbconvert_exporter": "python",
   "pygments_lexer": "ipython3",
   "version": "3.8.8"
  }
 },
 "nbformat": 4,
 "nbformat_minor": 5
}
