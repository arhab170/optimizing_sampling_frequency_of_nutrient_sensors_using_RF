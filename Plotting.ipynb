{
 "cells": [
  {
   "cell_type": "code",
   "execution_count": null,
   "id": "328d2bac",
   "metadata": {},
   "outputs": [],
   "source": [
    "import pandas as pd\n",
    "import numpy as np\n",
    "import sklearn\n",
    "from sklearn import linear_model\n",
    "from sklearn.utils import shuffle\n",
    "from sklearn.metrics import mean_squared_error\n",
    "from scipy import stats\n",
    "import matplotlib.pyplot as plt\n",
    "from matplotlib import pylab\n",
    "import random\n",
    "import plotly.express as px\n",
    "# import statsmodels.api as sm"
   ]
  },
  {
   "cell_type": "code",
   "execution_count": null,
   "id": "584ae51b",
   "metadata": {},
   "outputs": [],
   "source": [
    "# station = \"kahl\""
   ]
  },
  {
   "cell_type": "code",
   "execution_count": null,
   "id": "82bee536",
   "metadata": {},
   "outputs": [],
   "source": [
    "station = \"erlabrunn\""
   ]
  },
  {
   "cell_type": "code",
   "execution_count": null,
   "id": "54474b55",
   "metadata": {},
   "outputs": [],
   "source": [
    "def import_csv(station):\n",
    "    df = pd.read_csv(rf'\\data\\original_data\\all_data_{station}.csv')\n",
    "    df['Datum'] = pd.to_datetime(df['Datum'])\n",
    "    df= df.set_index(\"Datum\")\n",
    "    return df"
   ]
  },
  {
   "cell_type": "code",
   "execution_count": null,
   "id": "e784399d",
   "metadata": {},
   "outputs": [],
   "source": [
    "def plot_erlabrunn(df, perimeter, title):\n",
    "    temp1 = df.loc[:\"2018-12-31\"]\n",
    "    temp2 = df.loc[\"2019-01-01\":]\n",
    "    fig = px.scatter(temp1.reset_index(), x =\"Datum\", y= perimeter , title =title , width=1000, height=400)\n",
    "    fig2 = px.scatter(temp2.reset_index(), x =\"Datum\", y= perimeter , title =title , width=1000, height=400)\n",
    "    fig.update_xaxes(rangeslider_visible = True)\n",
    "    fig.show()\n",
    "    fig2.update_xaxes(rangeslider_visible = True)\n",
    "    fig2.show()"
   ]
  },
  {
   "cell_type": "code",
   "execution_count": null,
   "id": "14fcd692",
   "metadata": {},
   "outputs": [],
   "source": [
    "def plot_kahl(df, parameter, title):\n",
    "    fig = px.scatter(df.reset_index(), x =\"Datum\", y= parameter , title = title, width=1000, height=400)\n",
    "    fig.update_xaxes(rangeslider_visible = True)\n",
    "    fig.show()"
   ]
  },
  {
   "cell_type": "code",
   "execution_count": null,
   "id": "73b5235e",
   "metadata": {},
   "outputs": [],
   "source": [
    "def plot_kahl_in_two(df, perimeter, title):\n",
    "    temp1 = df.loc[:\"2019-08-31\"]\n",
    "    temp2 = df.loc[\"2019-09-01\":]\n",
    "    fig = px.scatter(temp1.reset_index(), x =\"Datum\", y= perimeter , title =title , width=1000, height=400)\n",
    "    fig2 = px.scatter(temp2.reset_index(), x =\"Datum\", y= perimeter , title =title , width=1000, height=400)\n",
    "    fig.update_xaxes(rangeslider_visible = True)\n",
    "    fig.show()\n",
    "    fig2.update_xaxes(rangeslider_visible = True)\n",
    "    fig2.show()"
   ]
  },
  {
   "cell_type": "code",
   "execution_count": null,
   "id": "2ff97cd8",
   "metadata": {},
   "outputs": [],
   "source": [
    "df_OG = pd.read_csv(rf'.\\data\\original_data\\all_data_{station}.csv')\n",
    "df_OG['Datum'] = pd.to_datetime(df_OG['Datum'])\n",
    "# df_OG = df_OG.drop(\"Conduct\", axis =1)\n",
    "# df_OG = df_OG.drop(\"flow\", axis =1)\n",
    "df_OG= df_OG.set_index(\"Datum\")\n",
    "# df_OG"
   ]
  },
  {
   "cell_type": "code",
   "execution_count": null,
   "id": "3d53cedd",
   "metadata": {},
   "outputs": [],
   "source": [
    "def histo_plot(df):\n",
    "    columns = list(df.columns)\n",
    "    for i in columns:\n",
    "        df[[i]].hist()\n",
    "    "
   ]
  },
  {
   "cell_type": "code",
   "execution_count": null,
   "id": "6fd21dd4",
   "metadata": {},
   "outputs": [],
   "source": [
    "def QQ_plot(df):\n",
    "    columns = list(df.columns)\n",
    "    for i in columns:\n",
    "        print(i)\n",
    "        stats.probplot(np.array(df[i]) , dist = stats.norm, plot=pylab)\n",
    "        pylab.show()"
   ]
  },
  {
   "cell_type": "code",
   "execution_count": null,
   "id": "6664cbaf",
   "metadata": {},
   "outputs": [],
   "source": [
    "df_OG"
   ]
  },
  {
   "cell_type": "code",
   "execution_count": null,
   "id": "7217cb2f",
   "metadata": {
    "scrolled": true
   },
   "outputs": [],
   "source": [
    "histo_plot(df_OG)"
   ]
  },
  {
   "cell_type": "code",
   "execution_count": null,
   "id": "f247ab4b",
   "metadata": {
    "scrolled": true
   },
   "outputs": [],
   "source": [
    "QQ_plot(df_OG)"
   ]
  },
  {
   "cell_type": "markdown",
   "id": "1a4ea4ed",
   "metadata": {},
   "source": [
    "# O2"
   ]
  },
  {
   "cell_type": "code",
   "execution_count": null,
   "id": "77e2c20d",
   "metadata": {},
   "outputs": [],
   "source": [
    "if station == \"erlabrunn\":\n",
    "    plot_erlabrunn(df_OG, \"O2\", \"Original\")        \n",
    "    \n",
    "    \n",
    "if station == \"kahl\":\n",
    "    plot_kahl_in_two(df_OG, \"O2\", \"Original\")        \n",
    "    "
   ]
  },
  {
   "cell_type": "markdown",
   "id": "6e93870d",
   "metadata": {},
   "source": [
    "# pH"
   ]
  },
  {
   "cell_type": "code",
   "execution_count": null,
   "id": "8b1b71d1",
   "metadata": {},
   "outputs": [],
   "source": [
    "if station == \"erlabrunn\":\n",
    "    plot_erlabrunn(df_OG, \"pH\", \"Original\")        \n",
    "\n",
    "if station == \"kahl\":\n",
    "    plot_kahl_in_two(df_OG, \"pH\", \"Original\")        \n"
   ]
  },
  {
   "cell_type": "markdown",
   "id": "8d249609",
   "metadata": {},
   "source": [
    "# Temp"
   ]
  },
  {
   "cell_type": "code",
   "execution_count": null,
   "id": "d33c177e",
   "metadata": {},
   "outputs": [],
   "source": [
    "if station == \"erlabrunn\":\n",
    "    plot_erlabrunn(df_OG, \"Temp\", \"Original\")        \n",
    "\n",
    "if station == \"kahl\":\n",
    "    plot_kahl_in_two(df_OG, \"Temp\", \"Original\")        \n",
    "    "
   ]
  },
  {
   "cell_type": "markdown",
   "id": "da3c276e",
   "metadata": {},
   "source": [
    "# \"Conduct\""
   ]
  },
  {
   "cell_type": "code",
   "execution_count": null,
   "id": "2afea39b",
   "metadata": {},
   "outputs": [],
   "source": [
    "if station == \"erlabrunn\":\n",
    "    plot_erlabrunn(df_OG, \"Conduct\", \"Original\")        \n",
    "if station == \"kahl\":\n",
    "    plot_kahl_in_two(df_OG, \"Conduct\", \"Original\")        \n"
   ]
  },
  {
   "cell_type": "markdown",
   "id": "119d62d3",
   "metadata": {},
   "source": [
    "# NO3N"
   ]
  },
  {
   "cell_type": "code",
   "execution_count": null,
   "id": "9a89d39d",
   "metadata": {},
   "outputs": [],
   "source": [
    "\n",
    "plot_erlabrunn(df_OG, \"NO3N\", \"Original\")"
   ]
  },
  {
   "cell_type": "code",
   "execution_count": null,
   "id": "59f72039",
   "metadata": {},
   "outputs": [],
   "source": [
    "if station == \"erlabrunn\":\n",
    "    plot_erlabrunn(df_OG, \"NO3N\", \"Original\")        \n",
    "\n",
    "if station == \"kahl\":\n",
    "    plot_kahl_in_two(df_OG, \"NO3N\", \"Original\")        "
   ]
  },
  {
   "cell_type": "markdown",
   "id": "0e1a416e",
   "metadata": {},
   "source": [
    "# OPO4P"
   ]
  },
  {
   "cell_type": "code",
   "execution_count": null,
   "id": "c98c8099",
   "metadata": {},
   "outputs": [],
   "source": [
    "if station == \"erlabrunn\":\n",
    "    plot_erlabrunn(df_OG, \"OPO4P\", \"Original\")        \n",
    "\n",
    "if station == \"kahl\" or station == \"enborne\":\n",
    "    plot_kahl_in_two(df_OG, \"OPO4P\", \"Original\")        "
   ]
  },
  {
   "cell_type": "markdown",
   "id": "6650fa3a",
   "metadata": {},
   "source": [
    "# NH4N"
   ]
  },
  {
   "cell_type": "code",
   "execution_count": null,
   "id": "5a4b02e1",
   "metadata": {},
   "outputs": [],
   "source": [
    "if station == \"kahl\":\n",
    "    plot_kahl_in_two(df_OG, \"NH4N\", \"Original\")        "
   ]
  },
  {
   "cell_type": "markdown",
   "id": "b4ff017b",
   "metadata": {},
   "source": [
    "<!-- Cleaned -->"
   ]
  }
 ],
 "metadata": {
  "kernelspec": {
   "display_name": "Python 3",
   "language": "python",
   "name": "python3"
  },
  "language_info": {
   "codemirror_mode": {
    "name": "ipython",
    "version": 3
   },
   "file_extension": ".py",
   "mimetype": "text/x-python",
   "name": "python",
   "nbconvert_exporter": "python",
   "pygments_lexer": "ipython3",
   "version": "3.8.8"
  }
 },
 "nbformat": 4,
 "nbformat_minor": 5
}
