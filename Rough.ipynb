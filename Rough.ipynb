{
 "cells": [
  {
   "cell_type": "code",
   "execution_count": null,
   "id": "81c1475d",
   "metadata": {},
   "outputs": [],
   "source": [
    "import pandas as pd\n",
    "import numpy as np\n",
    "import sklearn\n",
    "from sklearn import linear_model\n",
    "from sklearn.metrics import mean_squared_error\n",
    "from sklearn.metrics import make_scorer\n",
    "from sklearn.model_selection import ShuffleSplit\n",
    "from scipy import stats\n",
    "import matplotlib.pyplot as plt\n",
    "from matplotlib import pylab\n",
    "import random\n",
    "from sklearn.model_selection import KFold\n",
    "import plotly.express as px\n",
    "from mlxtend.feature_selection import SequentialFeatureSelector as SFS\n",
    "from mlxtend.plotting import plot_sequential_feature_selection as plot_sfs\n",
    "from sklearn.ensemble import RandomForestRegressor\n",
    "import jupyternotify\n",
    "ip = get_ipython()\n",
    "ip.register_magics(jupyternotify.JupyterNotifyMagics)\n",
    "from  sklearn.feature_selection import SelectFromModel\n",
    "from sklearn.ensemble import GradientBoostingRegressor\n",
    "from sklearn.metrics import r2_score\n",
    "from sklearn.svm import SVR\n",
    "import dateutil\n",
    "from datetime import datetime\n",
    "from dateutil.relativedelta import relativedelta\n",
    "from mlxtend.evaluate import PredefinedHoldoutSplit\n",
    "import kneed\n",
    "import kaleido\n",
    "%run functions.ipynb"
   ]
  },
  {
   "cell_type": "raw",
   "id": "aa47aa0e",
   "metadata": {},
   "source": [
    "def rmse_manual(y, y_pred):\n",
    "    return mean_squared_error(y, y_pred, squared=False)\n",
    "\n",
    "scorer_rmse = make_scorer(rmse_manual, greater_is_better=True)"
   ]
  },
  {
   "cell_type": "code",
   "execution_count": null,
   "id": "caad032f",
   "metadata": {},
   "outputs": [],
   "source": [
    "%%notify\n",
    "%%time\n",
    "\n",
    "X = np.array(maual_train[list_feat])\n",
    "y = np.array(maual_train[[predict]])\n",
    "\n",
    "split_algo = ShuffleSplit(test_size=0.20, random_state=0)\n",
    "cv_gen = split_algo.split(X, y)\n",
    "cv = list(cv_gen)\n",
    "\n",
    "sfs = SFS(algo,\n",
    "          k_features=(len(list_feat)),\n",
    "          forward=True,\n",
    "          floating=False, \n",
    "          scoring= scorer_rmse, \n",
    "          cv=cv)\n",
    "sfs = sfs.fit(X, y.ravel())\n",
    "\n",
    "fig = plot_sfs(sfs.get_metric_dict(), kind='std_err')\n",
    "plt.title(\"RMSE %s %s\" % (predict, station))\n",
    "plt.grid()\n",
    "plt.show()"
   ]
  },
  {
   "cell_type": "raw",
   "id": "84b9632d",
   "metadata": {},
   "source": [
    "station = \"kahl\""
   ]
  },
  {
   "cell_type": "code",
   "execution_count": null,
   "id": "f5179543",
   "metadata": {},
   "outputs": [],
   "source": [
    "station = \"erlabrunn\""
   ]
  },
  {
   "cell_type": "code",
   "execution_count": null,
   "id": "13c05257",
   "metadata": {},
   "outputs": [],
   "source": [
    "#OPTIONS:  \"OPO4P\", \"NO3N\", \"NH4N\", \"TRP\"\n"
   ]
  },
  {
   "cell_type": "raw",
   "id": "dbf68ad6",
   "metadata": {},
   "source": [
    "columns = ['Col1', 'Col2', ...]\n",
    "df.drop(columns, inplace=True, axis=1)"
   ]
  },
  {
   "cell_type": "raw",
   "id": "b17b20be",
   "metadata": {},
   "source": [
    "del_columns = ['month_sin','month_cos','week_sin','week_cos']"
   ]
  },
  {
   "cell_type": "raw",
   "id": "e5f68b5a",
   "metadata": {},
   "source": [
    "df2 = df.rename({'a': 'X', 'b': 'Y'}, axis=1) "
   ]
  },
  {
   "cell_type": "raw",
   "id": "863eaf50",
   "metadata": {},
   "source": [
    "df1 = df1.rename({'O2':('O2_%s'%(predict))}, axis=1) "
   ]
  },
  {
   "cell_type": "code",
   "execution_count": null,
   "id": "5fb4adce",
   "metadata": {},
   "outputs": [],
   "source": [
    "if station == \"kahl\":\n",
    "    predict = \"NH4N\"\n",
    "    df1 = pd.read_csv('%s_%s_final.csv' %(station, predict))\n",
    "    df1['Datum'] = pd.to_datetime(df1['Datum'])\n",
    "    df1= df1.set_index(\"Datum\")\n",
    "    df1.drop(del_columns, inplace=True, axis=1)\n",
    "    df1 = df1.rename({'O2':('O2_%s'%(predict)), 'Temp':('Temp_%s'%(predict)), 'pH':('pH_%s'%(predict)), \n",
    "                      'flow':('flow_%s'%(predict)), 'Conduct':('Conduct_%s'%(predict))}, axis=1) "
   ]
  },
  {
   "cell_type": "code",
   "execution_count": null,
   "id": "278ebefa",
   "metadata": {},
   "outputs": [],
   "source": [
    "df1"
   ]
  },
  {
   "cell_type": "code",
   "execution_count": null,
   "id": "5df12049",
   "metadata": {},
   "outputs": [],
   "source": [
    "predict = \"NO3N\"\n",
    "df2 = pd.read_csv('%s_%s_final.csv' %(station, predict))\n",
    "df2['Datum'] = pd.to_datetime(df2['Datum'])\n",
    "df2= df2.set_index(\"Datum\")\n",
    "df2.drop(del_columns, inplace=True, axis=1)\n",
    "df2 = df2.rename({'O2':('O2_%s'%(predict)), 'Temp':('Temp_%s'%(predict)), 'pH':('pH_%s'%(predict)), \n",
    "                  'flow':('flow_%s'%(predict)), 'Conduct':('Conduct_%s'%(predict))}, axis=1) \n",
    "df2"
   ]
  },
  {
   "cell_type": "code",
   "execution_count": null,
   "id": "650f87e8",
   "metadata": {},
   "outputs": [],
   "source": [
    "df2.describe()"
   ]
  },
  {
   "cell_type": "code",
   "execution_count": null,
   "id": "97fced20",
   "metadata": {},
   "outputs": [],
   "source": [
    "predict = \"OPO4P\"\n",
    "df3 = pd.read_csv('%s_%s_final.csv' %(station, predict))\n",
    "df3['Datum'] = pd.to_datetime(df3['Datum'])\n",
    "df3= df3.set_index(\"Datum\")\n",
    "df3.drop(del_columns, inplace=True, axis=1)\n",
    "df3 = df3.rename({'O2':('O2_%s'%(predict)), 'Temp':('Temp_%s'%(predict)), 'pH':('pH_%s'%(predict)), \n",
    "                  'flow':('flow_%s'%(predict)), 'Conduct':('Conduct_%s'%(predict))}, axis=1) \n",
    "df3"
   ]
  },
  {
   "cell_type": "code",
   "execution_count": null,
   "id": "5a3feff3",
   "metadata": {},
   "outputs": [],
   "source": [
    "if station == \"kahl\":\n",
    "    df = pd.concat([df1,df2,df3], axis=1)\n",
    "if station == \"erlabrunn\":\n",
    "    df = pd.concat([df2,df3], axis=1)\n",
    "    \n",
    "df"
   ]
  },
  {
   "cell_type": "raw",
   "id": "e88da071",
   "metadata": {},
   "source": [
    "figx = px.line(df, x = df.index, y='O2_NO3N', title = \"%s \" %(station))\n",
    "# figx = px.line(df, x = df.index, y=['O2_NH4N', \"Predicted_%s\" %(predict)], title = \"%s \" %(station))\n",
    "figx.update_xaxes(rangeslider_visible = True)\n",
    "figx.show()"
   ]
  },
  {
   "cell_type": "raw",
   "id": "c2212f63",
   "metadata": {},
   "source": [
    "figx = px.line(df, x = df.index, y='O2_OPO4P', title = \"%s \" %(station))\n",
    "# figx = px.line(df, x = df.index, y=['O2_NH4N', \"Predicted_%s\" %(predict)], title = \"%s \" %(station))\n",
    "figx.update_xaxes(rangeslider_visible = True)\n",
    "figx.show()"
   ]
  },
  {
   "cell_type": "raw",
   "id": "97d17334",
   "metadata": {},
   "source": [
    "figx = px.line(df, x = df.index, y='O2_NH4N', title = \"%s \" %(station))\n",
    "# figx = px.line(df, x = df.index, y=['O2_NH4N', \"Predicted_%s\" %(predict)], title = \"%s \" %(station))\n",
    "figx.update_xaxes(rangeslider_visible = True)\n",
    "figx.show()"
   ]
  },
  {
   "cell_type": "code",
   "execution_count": null,
   "id": "82ebb5ed",
   "metadata": {},
   "outputs": [],
   "source": [
    "if station == \"kahl\":\n",
    "    df['O2_NO3N'].update(df.pop('O2_NH4N'))\n",
    "    df['O2_NO3N'].update(df.pop('O2_OPO4P'))\n",
    "\n",
    "    df['Temp_NO3N'].update(df.pop('Temp_NH4N'))\n",
    "    df['Temp_NO3N'].update(df.pop('Temp_OPO4P'))\n",
    "\n",
    "    df['pH_NO3N'].update(df.pop('pH_NH4N'))\n",
    "    df['pH_NO3N'].update(df.pop('pH_OPO4P'))\n",
    "\n",
    "    df['flow_NO3N'].update(df.pop('flow_NH4N'))\n",
    "    df['flow_NO3N'].update(df.pop('flow_OPO4P'))\n",
    "\n",
    "    df['Conduct_NO3N'].update(df.pop('Conduct_NH4N'))\n",
    "    df['Conduct_NO3N'].update(df.pop('Conduct_OPO4P'))\n",
    "\n",
    "df"
   ]
  },
  {
   "cell_type": "code",
   "execution_count": null,
   "id": "db71664b",
   "metadata": {},
   "outputs": [],
   "source": [
    "if station == \"erlabrunn\":\n",
    "    df['O2_NO3N'].update(df.pop('O2_OPO4P'))\n",
    "\n",
    "    df['Temp_NO3N'].update(df.pop('Temp_OPO4P'))\n",
    "\n",
    "    df['pH_NO3N'].update(df.pop('pH_OPO4P'))\n",
    "\n",
    "    df['flow_NO3N'].update(df.pop('flow_OPO4P'))\n",
    "\n",
    "    df['Conduct_NO3N'].update(df.pop('Conduct_OPO4P'))"
   ]
  },
  {
   "cell_type": "code",
   "execution_count": null,
   "id": "e02b670f",
   "metadata": {},
   "outputs": [],
   "source": [
    "df.describe()"
   ]
  },
  {
   "cell_type": "code",
   "execution_count": null,
   "id": "fbce8be6",
   "metadata": {},
   "outputs": [],
   "source": [
    "figx = px.line(df, x = df.index, y='pH_NO3N', title = \"%s \" %(station))\n",
    "# figx = px.line(df, x = df.index, y=['O2_NH4N', \"Predicted_%s\" %(predict)], title = \"%s \" %(station))\n",
    "figx.update_xaxes(rangeslider_visible = True)\n",
    "figx.show()"
   ]
  },
  {
   "cell_type": "code",
   "execution_count": null,
   "id": "f4bd24f8",
   "metadata": {},
   "outputs": [],
   "source": [
    "if linear_regression == 1:\n",
    "    temp_feats = []\n",
    "    main_adj_r2 = []\n",
    "    main_rmse = []\n",
    "\n",
    "    # corr_order = [\"Cube_Conduct\", \"pH\", \"log_Turb\", \"log_Chlorophyll\", \"log_flow\", \"log_O2\", \"Temp\"]\n",
    "    # corr_order = [\"Temp\"]\n",
    "\n",
    "    for i in corr_order:\n",
    "        temp_feats.append(i)\n",
    "        if k_fold == 1:\n",
    "\n",
    "            X = np.array(major_X[temp_feats])\n",
    "            y = np.array(major_y)\n",
    "\n",
    "            arr_Adj_r2 = []\n",
    "            arr_RMSE = []\n",
    "\n",
    "            kf = KFold(n_splits=5)\n",
    "            for train_index, test_index in kf.split(X):\n",
    "                X_train, X_test, y_train, y_test = X[train_index], X[test_index], y[train_index], y[test_index]\n",
    "                linear = linear_model.LinearRegression()\n",
    "                linear.fit(X_train, y_train)\n",
    "                predictions = linear.predict(X_test)\n",
    "                pd_predictions = pd.DataFrame(predictions, columns=[\"predicted\"])\n",
    "                pd_observed = pd.DataFrame(y_test, columns=[\"observed\"])\n",
    "                pd_concat = pd.concat([pd_observed, pd_predictions], axis=1)\n",
    "\n",
    "                temp = Adj_r2(y_test, predictions, X_test)\n",
    "                arr_Adj_r2.append(temp)\n",
    "\n",
    "\n",
    "                temp2 = mean_squared_error(y_test, predictions, squared=False)\n",
    "                arr_RMSE.append(temp2)\n",
    "    #             print(arr_RMSE)\n",
    "\n",
    "\n",
    "\n",
    "            adj_r2 = np.average(arr_Adj_r2)\n",
    "            main_adj_r2.append(adj_r2)\n",
    "            rmse = np.average(arr_RMSE)\n",
    "            main_rmse.append(rmse)\n",
    "\n",
    "        #         print(\"Cross Validation results \\n\")\n",
    "        #         print(\"Adjusted Rsquared\", predict, \"\\n\", adj_r2)\n",
    "        #         print('RMSE ', predict, '\\n', rmse)\n",
    "\n",
    "        elif k_fold == 0:\n",
    "            O_features = features[temp_feats]\n",
    "            X_train = np.array(O_features.loc[:train_end])\n",
    "            y_train = np.array(label.loc[:train_end])\n",
    "\n",
    "            X_test = np.array(O_features.loc[test_start:])\n",
    "            y_test = np.array(label.loc[test_start:])\n",
    "\n",
    "            linear = linear_model.LinearRegression()\n",
    "            linear.fit(X_train, y_train)\n",
    "            predictions = linear.predict(X_test)\n",
    "\n",
    "            rmse = mean_squared_error(y_test, predictions, squared=False)\n",
    "            adj_r2 = Adj_r2(y_test, predictions, X_test)\n",
    "            print(\"Without Cross Validation \\n\")\n",
    "            print(\"Adjusted Rsquared\", predict, \"\\n\", adj_r2)\n",
    "            print('RMSE ', predict, '\\n', rmse)"
   ]
  },
  {
   "cell_type": "code",
   "execution_count": null,
   "id": "f1d013c9",
   "metadata": {},
   "outputs": [],
   "source": [
    "def std_procedure(filename):\n",
    "    df = pd.read_csv(filename)\n",
    "    df['Datum'] = pd.to_datetime(df['Datum'])\n",
    "    df= df.set_index(\"Datum\")\n",
    "    return df\n",
    "\n",
    "def export(df, filename):\n",
    "    df.to_csv('%s_new.csv' %filename, index = True, header = True)"
   ]
  },
  {
   "cell_type": "code",
   "execution_count": null,
   "id": "494a0a65",
   "metadata": {},
   "outputs": [],
   "source": [
    "figx = px.line(df, x = df.index, y='O2_NO3N', title = \"%s \" %(station))\n",
    "# figx = px.line(df, x = df.index, y=['O2_NH4N', \"Predicted_%s\" %(predict)], title = \"%s \" %(station))\n",
    "figx.update_xaxes(rangeslider_visible = True)\n",
    "figx.show()"
   ]
  },
  {
   "cell_type": "code",
   "execution_count": null,
   "id": "95a8743f",
   "metadata": {},
   "outputs": [],
   "source": [
    "def order_of_features(df, dict):\n",
    "    df = df[[\"feature_names\"]]\n",
    "    rows = len(df.index)\n",
    "    array = []\n",
    "    i =1\n",
    "    while i <= rows:\n",
    "        test = df.iloc[(i-1),0]\n",
    "        array.append(test)\n",
    "        i = i+1\n",
    "\n",
    "    distinct = []\n",
    "    for i in array:\n",
    "        for j in i:\n",
    "            distinct.append(j)\n",
    "\n",
    "    final_distinct = list(dict.fromkeys(distinct))\n",
    "    \n",
    "    final_array = []\n",
    "    for i in final_distinct:\n",
    "        final_array.append(dict.get(i))\n",
    "        \n",
    "    return final_array"
   ]
  },
  {
   "cell_type": "code",
   "execution_count": null,
   "id": "b71cece9",
   "metadata": {},
   "outputs": [],
   "source": [
    "def column_dict(df):\n",
    "    ss = df.columns\n",
    "    dict = {}\n",
    "    i = 0\n",
    "    while i < len(ss):\n",
    "        dict[str(i)] = ss[i]\n",
    "        i = i+1\n",
    "    return dict\n",
    "\n",
    "ss = column_dict(tryy)\n",
    "ss"
   ]
  },
  {
   "cell_type": "code",
   "execution_count": null,
   "id": "2ce4f089",
   "metadata": {},
   "outputs": [],
   "source": [
    "i = 0\n",
    "while i < len(post_count):\n",
    "    percentage_loss = (pre_count[i] - post_count[i])/pre_count[i] * 100\n",
    "    print(\"Percentage loss in \", columns[i], \": \", percentage_loss, \"\\n\")\n",
    "    i = i+1"
   ]
  },
  {
   "cell_type": "code",
   "execution_count": null,
   "id": "36c95112",
   "metadata": {},
   "outputs": [],
   "source": [
    "post_count = []\n",
    "\n",
    "for i in columns:\n",
    "    temp = df[[i]]\n",
    "    count = post_total_points - np.count_nonzero(temp.isnull())\n",
    "    post_count.append(count)"
   ]
  },
  {
   "cell_type": "code",
   "execution_count": null,
   "id": "058a96b2",
   "metadata": {},
   "outputs": [],
   "source": [
    "pre_count = []\n",
    "\n",
    "for i in columns:\n",
    "    temp = df[[i]]\n",
    "    count = pre_total_points - (np.count_nonzero(temp.isnull()))\n",
    "    pre_count.append(count)\n",
    "\n",
    "print(pre_count)"
   ]
  },
  {
   "cell_type": "code",
   "execution_count": null,
   "id": "469d7985",
   "metadata": {},
   "outputs": [],
   "source": [
    "post_total_points = len(df.index)\n",
    "post_total_points"
   ]
  },
  {
   "cell_type": "code",
   "execution_count": null,
   "id": "7f45c10d",
   "metadata": {},
   "outputs": [],
   "source": [
    "def r2_score(y_test, predictions):\n",
    "    corr_matrix = np.corrcoef(y_test, predictions)\n",
    "    corr = corr_matrix[0,1]\n",
    "    R_sq = corr**2\n",
    "    return R_sq"
   ]
  },
  {
   "cell_type": "code",
   "execution_count": null,
   "id": "a72b9e64",
   "metadata": {},
   "outputs": [],
   "source": [
    "pd_y_test = pd.DataFrame(y_test)\n",
    "pd_y_test.columns = [\"y_test\"]\n",
    "pd_y_test_mean = pd_y_test.mean()\n",
    "# pd_y_test\n",
    "\n",
    "pd_predictions = pd.DataFrame(predictions)\n",
    "pd_predictions.columns = [\"predictions\"]\n",
    "pd_predictions = pd_predictions.round(2)\n",
    "pd_predictions_mean = pd_predictions.mean()\n",
    "# pd_predictions\n",
    "\n",
    "dff = pd.concat([pd_predictions, pd_y_test], axis=1)\n",
    "# dff\n",
    "\n",
    "dff[\"numerator_NSE\"] = pow(dff[\"predictions\"] - dff[\"y_test\"],2)\n",
    "dff[\"denominator_NSE\"] = pow(pd_y_test - pd_y_test_mean,2)\n",
    "# dff\n",
    "\n",
    "dff[\"X1\"]= (pd_y_test - pd_y_test_mean)\n",
    "dff[\"X2\"]=(pd_predictions - pd_predictions_mean)\n",
    "# dff\n",
    "\n",
    "dff[\"numerator_Rsquared\"] = dff[\"X1\"]*dff[\"X2\"]\n",
    "# dff\n",
    "\n",
    "dff[\"denominator_2\"] = pow(pd_predictions - pd_predictions_mean,2)\n",
    "# dff\n",
    "\n",
    "numerator_NSE_sum = dff[\"numerator_NSE\"].sum()\n",
    "numerator_Rsquared_sum = pow(dff[\"numerator_Rsquared\"].sum(),2)\n",
    "denominator_NSE_sum = dff[\"denominator_NSE\"].sum()\n",
    "denominator_2_sum = dff[\"denominator_2\"].sum()\n",
    "dff.head(5)\n"
   ]
  },
  {
   "cell_type": "code",
   "execution_count": null,
   "id": "cd74bc90",
   "metadata": {},
   "outputs": [],
   "source": [
    "plt.figure(figsize=(100,20))\n",
    "plt.scatter(df.index, df['O2'])\n",
    "plt.figure(figsize=(100,20))\n",
    "plt.scatter(df['Datum'], df['Conduct'])\n",
    "plt.figure(figsize=(100,20))\n",
    "plt.scatter(df3['Datum'], df3['Conduct'])"
   ]
  }
 ],
 "metadata": {
  "kernelspec": {
   "display_name": "Python 3",
   "language": "python",
   "name": "python3"
  },
  "language_info": {
   "codemirror_mode": {
    "name": "ipython",
    "version": 3
   },
   "file_extension": ".py",
   "mimetype": "text/x-python",
   "name": "python",
   "nbconvert_exporter": "python",
   "pygments_lexer": "ipython3",
   "version": "3.8.8"
  }
 },
 "nbformat": 4,
 "nbformat_minor": 5
}
