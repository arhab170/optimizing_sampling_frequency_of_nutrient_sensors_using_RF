{
 "cells": [
  {
   "cell_type": "code",
   "execution_count": null,
   "id": "328d2bac",
   "metadata": {},
   "outputs": [],
   "source": [
    "import pandas as pd\n",
    "import numpy as np\n",
    "import sklearn\n",
    "from sklearn import linear_model\n",
    "from sklearn.utils import shuffle\n",
    "from sklearn.metrics import mean_squared_error\n",
    "from scipy import stats\n",
    "import matplotlib.pyplot as plt\n",
    "from matplotlib import pylab\n",
    "import random\n",
    "import plotly.express as px\n",
    "import statsmodels.api as sm"
   ]
  },
  {
   "cell_type": "raw",
   "id": "53658110",
   "metadata": {},
   "source": [
    "station = \"enborne\"\n",
    "# columns = ['flow', 'TRP', 'Conduct', 'NO3N', 'turb', 'Chlorophyll', \"O2\", \"pH\", \"Temp\"]\n",
    "# columns"
   ]
  },
  {
   "cell_type": "code",
   "execution_count": null,
   "id": "584ae51b",
   "metadata": {},
   "outputs": [],
   "source": [
    "# station = \"kahl\""
   ]
  },
  {
   "cell_type": "code",
   "execution_count": null,
   "id": "82bee536",
   "metadata": {},
   "outputs": [],
   "source": [
    "station = \"erlabrunn\""
   ]
  },
  {
   "cell_type": "code",
   "execution_count": null,
   "id": "f4f558ff",
   "metadata": {},
   "outputs": [],
   "source": [
    "# *** a = 0 : Original\n",
    "#     a = 1 : Right after cleaning\n",
    "#     a = 2 : Interpolated\n",
    "#     a = 3 : NA removed ***\n",
    "a = 2"
   ]
  },
  {
   "cell_type": "code",
   "execution_count": null,
   "id": "54474b55",
   "metadata": {},
   "outputs": [],
   "source": [
    "def import_csv(station):\n",
    "    df = pd.read_csv('%s_total.csv' %station)\n",
    "    df['Datum'] = pd.to_datetime(df['Datum'])\n",
    "    df= df.set_index(\"Datum\")\n",
    "    return df"
   ]
  },
  {
   "cell_type": "code",
   "execution_count": null,
   "id": "e784399d",
   "metadata": {},
   "outputs": [],
   "source": [
    "def plot_erlabrunn(df, perimeter, title):\n",
    "    temp1 = df.loc[:\"2018-12-31\"]\n",
    "    temp2 = df.loc[\"2019-01-01\":]\n",
    "    fig = px.scatter(temp1.reset_index(), x =\"Datum\", y= perimeter , title =title , width=1000, height=400)\n",
    "    fig2 = px.scatter(temp2.reset_index(), x =\"Datum\", y= perimeter , title =title , width=1000, height=400)\n",
    "    fig.update_xaxes(rangeslider_visible = True)\n",
    "    fig.show()\n",
    "    fig2.update_xaxes(rangeslider_visible = True)\n",
    "    fig2.show()"
   ]
  },
  {
   "cell_type": "code",
   "execution_count": null,
   "id": "14fcd692",
   "metadata": {},
   "outputs": [],
   "source": [
    "def plot_kahl(df, parameter, title):\n",
    "    fig = px.scatter(df.reset_index(), x =\"Datum\", y= parameter , title = title, width=1000, height=400)\n",
    "    fig.update_xaxes(rangeslider_visible = True)\n",
    "    fig.show()"
   ]
  },
  {
   "cell_type": "code",
   "execution_count": null,
   "id": "73b5235e",
   "metadata": {},
   "outputs": [],
   "source": [
    "def plot_kahl_in_two(df, perimeter, title):\n",
    "    temp1 = df.loc[:\"2019-08-31\"]\n",
    "    temp2 = df.loc[\"2019-09-01\":]\n",
    "    fig = px.scatter(temp1.reset_index(), x =\"Datum\", y= perimeter , title =title , width=1000, height=400)\n",
    "    fig2 = px.scatter(temp2.reset_index(), x =\"Datum\", y= perimeter , title =title , width=1000, height=400)\n",
    "    fig.update_xaxes(rangeslider_visible = True)\n",
    "    fig.show()\n",
    "    fig2.update_xaxes(rangeslider_visible = True)\n",
    "    fig2.show()"
   ]
  },
  {
   "cell_type": "code",
   "execution_count": null,
   "id": "2ff97cd8",
   "metadata": {},
   "outputs": [],
   "source": [
    "df_OG = pd.read_csv('%s_total_new.csv' %station)\n",
    "df_OG['Datum'] = pd.to_datetime(df_OG['Datum'])\n",
    "# df_OG = df_OG.drop(\"Conduct\", axis =1)\n",
    "# df_OG = df_OG.drop(\"flow\", axis =1)\n",
    "df_OG= df_OG.set_index(\"Datum\")\n",
    "# df_OG"
   ]
  },
  {
   "cell_type": "code",
   "execution_count": null,
   "id": "5bd5de4c",
   "metadata": {},
   "outputs": [],
   "source": [
    "df_DC = pd.read_csv('%s_after_cleaning.csv' %station)\n",
    "df_DC['Datum'] = pd.to_datetime(df_DC['Datum'])\n",
    "df_DC= df_DC.set_index(\"Datum\")\n",
    "# df_DC"
   ]
  },
  {
   "cell_type": "code",
   "execution_count": null,
   "id": "f94d71d4",
   "metadata": {},
   "outputs": [],
   "source": [
    "df_NA = pd.read_csv('%s_cleaned_noNA.csv' %station)\n",
    "df_NA['Datum'] = pd.to_datetime(df_NA['Datum'])\n",
    "df_NA= df_NA.set_index(\"Datum\")\n",
    "# df_NA"
   ]
  },
  {
   "cell_type": "code",
   "execution_count": null,
   "id": "5b5fd11d",
   "metadata": {},
   "outputs": [],
   "source": [
    "df_IP = pd.read_csv('%s_cleaned_interpolated.csv' %station) \n",
    "df_IP['Datum'] = pd.to_datetime(df_IP['Datum'])\n",
    "df_IP= df_IP.set_index(\"Datum\")"
   ]
  },
  {
   "cell_type": "code",
   "execution_count": null,
   "id": "47abe7c2",
   "metadata": {},
   "outputs": [],
   "source": [
    "df_TR = pd.read_csv('%s_transformed.csv' %station) \n",
    "df_TR['Datum'] = pd.to_datetime(df_TR['Datum'])\n",
    "df_TR= df_TR.set_index(\"Datum\")"
   ]
  },
  {
   "cell_type": "code",
   "execution_count": null,
   "id": "6664cbaf",
   "metadata": {},
   "outputs": [],
   "source": [
    "df_OG"
   ]
  },
  {
   "cell_type": "raw",
   "id": "7c10326b",
   "metadata": {
    "scrolled": true
   },
   "source": [
    "def histo_plot(df):\n",
    "    columns = list(df.columns)\n",
    "    for i in columns:\n",
    "        df[[i]].hist()\n",
    "    "
   ]
  },
  {
   "cell_type": "raw",
   "id": "7217cb2f",
   "metadata": {
    "scrolled": true
   },
   "source": [
    "histo_plot(df_OG)"
   ]
  },
  {
   "cell_type": "raw",
   "id": "c7317a93",
   "metadata": {
    "scrolled": false
   },
   "source": [
    "def QQ_plot(df):\n",
    "    columns = list(df.columns)\n",
    "    for i in columns:\n",
    "        print(i)\n",
    "        stats.probplot(np.array(df[i]) , dist = stats.norm, plot=pylab)\n",
    "        pylab.show()"
   ]
  },
  {
   "cell_type": "raw",
   "id": "f247ab4b",
   "metadata": {
    "scrolled": true
   },
   "source": [
    "QQ_plot(df_OG)"
   ]
  },
  {
   "cell_type": "raw",
   "id": "3bac0aeb",
   "metadata": {},
   "source": [
    "QQ_plot(df_TR)"
   ]
  },
  {
   "cell_type": "markdown",
   "id": "1a4ea4ed",
   "metadata": {},
   "source": [
    "# O2"
   ]
  },
  {
   "cell_type": "code",
   "execution_count": null,
   "id": "2358a1f2",
   "metadata": {
    "scrolled": false
   },
   "outputs": [],
   "source": [
    "if station == \"erlabrunn\":\n",
    "    if a == 0:\n",
    "    #Original\n",
    "        plot_erlabrunn(df_OG, \"O2\", \"Original\")        \n",
    "    \n",
    "    elif a == 1:    \n",
    "    # Right after cleaning\n",
    "        plot_erlabrunn(df_OG, \"O2\", \"Right after cleaning\")        \n",
    "    \n",
    "    elif a == 2:    \n",
    "    #Interpolated\n",
    "        plot_erlabrunn(df_IP, \"O2\", \"Interpolated\")        \n",
    "    \n",
    "    elif a == 3:\n",
    "    #NA removed\n",
    "        plot_erlabrunn(df_OG, \"O2\", \"NA removed\")        \n",
    "\n",
    "if station == \"kahl\":\n",
    "    if a == 0:\n",
    "    #Original\n",
    "        plot_kahl_in_two(df_OG, \"O2\", \"Original\")        \n",
    "    \n",
    "    elif a == 1:    \n",
    "    # Right after cleaning\n",
    "        plot_kahl_in_two(df_OG, \"O2\", \"Right after cleaning\")        \n",
    "    \n",
    "    elif a == 2:    \n",
    "    #Interpolated\n",
    "        plot_kahl_in_two(df_IP, \"O2\", \"Interpolated\")        \n",
    "    \n",
    "    elif a == 3:\n",
    "    #NA removed\n",
    "        plot_kahl(df_OG, \"O2\", \"NA removed\")        \n"
   ]
  },
  {
   "cell_type": "markdown",
   "id": "6e93870d",
   "metadata": {},
   "source": [
    "# pH"
   ]
  },
  {
   "cell_type": "code",
   "execution_count": null,
   "id": "8b1b71d1",
   "metadata": {},
   "outputs": [],
   "source": [
    "if station == \"erlabrunn\":\n",
    "    if a == 0:\n",
    "    #Original\n",
    "        plot_erlabrunn(df_OG, \"pH\", \"Original\")        \n",
    "    \n",
    "    elif a == 1:    \n",
    "    # Right after cleaning\n",
    "        plot_erlabrunn(df_OG, \"pH\", \"Right after cleaning\")        \n",
    "    \n",
    "    elif a == 2:    \n",
    "    #Interpolated\n",
    "        plot_erlabrunn(df_IP, \"pH\", \"Interpolated\")        \n",
    "    \n",
    "    elif a == 3:\n",
    "    #NA removed\n",
    "        plot_erlabrunn(df_OG, \"pH\", \"NA removed\")        \n",
    "\n",
    "if station == \"kahl\":\n",
    "    if a == 0:\n",
    "    #Original\n",
    "        plot_kahl_in_two(df_OG, \"pH\", \"Original\")        \n",
    "    \n",
    "    elif a == 1:    \n",
    "    # Right after cleaning\n",
    "        plot_kahl(df_OG, \"pH\", \"Right after cleaning\")        \n",
    "    \n",
    "    elif a == 2:    \n",
    "    #Interpolated\n",
    "        plot_kahl_in_two(df_IP, \"pH\", \"Interpolated\")        \n",
    "    \n",
    "    elif a == 3:\n",
    "    #NA removed\n",
    "        plot_kahl(df_OG, \"pH\", \"NA removed\")        "
   ]
  },
  {
   "cell_type": "markdown",
   "id": "8d249609",
   "metadata": {},
   "source": [
    "# Temp"
   ]
  },
  {
   "cell_type": "code",
   "execution_count": null,
   "id": "d33c177e",
   "metadata": {},
   "outputs": [],
   "source": [
    "if station == \"erlabrunn\":\n",
    "    if a == 0:\n",
    "    #Original\n",
    "        plot_erlabrunn(df_OG, \"Temp\", \"Original\")        \n",
    "    \n",
    "    elif a == 1:    \n",
    "    # Right after cleaning\n",
    "        plot_erlabrunn(df_OG, \"Temp\", \"Right after cleaning\")        \n",
    "    \n",
    "    elif a == 2:    \n",
    "    #Interpolated\n",
    "        plot_erlabrunn(df_IP, \"Temp\", \"Interpolated\")        \n",
    "    \n",
    "    elif a == 3:\n",
    "    #NA removed\n",
    "        plot_erlabrunn(df_OG, \"Temp\", \"NA removed\")        \n",
    "\n",
    "if station == \"kahl\":\n",
    "    if a == 0:\n",
    "    #Original\n",
    "        plot_kahl_in_two(df_OG, \"Temp\", \"Original\")        \n",
    "    \n",
    "    elif a == 1:    \n",
    "    # Right after cleaning\n",
    "        plot_kahl(df_, \"Temp\", \"Right after cleaning\")        \n",
    "    \n",
    "    elif a == 2:    \n",
    "    #Interpolated\n",
    "        plot_kahl_in_two(df_IP, \"Temp\", \"Interpolated\")        \n",
    "    \n",
    "    elif a == 3:\n",
    "    #NA removed\n",
    "        plot_kahl(df_OG, \"Temp\", \"NA removed\")        \n"
   ]
  },
  {
   "cell_type": "markdown",
   "id": "da3c276e",
   "metadata": {},
   "source": [
    "# \"Conduct\""
   ]
  },
  {
   "cell_type": "code",
   "execution_count": null,
   "id": "2afea39b",
   "metadata": {},
   "outputs": [],
   "source": [
    "if station == \"erlabrunn\":\n",
    "    if a == 0:\n",
    "    #Original\n",
    "        plot_erlabrunn(df_OG, \"Conduct\", \"Original\")        \n",
    "    \n",
    "    elif a == 1:    \n",
    "    # Right after cleaning\n",
    "        plot_erlabrunn(df_OG, \"Conduct\", \"Right after cleaning\")        \n",
    "    \n",
    "    elif a == 2:    \n",
    "    #Interpolated\n",
    "        plot_erlabrunn(df_IP, \"Conduct\", \"Interpolated\")        \n",
    "    \n",
    "    elif a == 3:\n",
    "    #NA removed\n",
    "        plot_erlabrunn(df_OG, \"Conduct\", \"NA removed\")        \n",
    "\n",
    "if station == \"kahl\":\n",
    "    if a == 0:\n",
    "    #Original\n",
    "        plot_kahl_in_two(df_OG, \"Conduct\", \"Original\")        \n",
    "    \n",
    "    elif a == 1:    \n",
    "    # Right after cleaning\n",
    "        plot_kahl(df_OG, \"Conduct\", \"Right after cleaning\")        \n",
    "    \n",
    "    elif a == 2:    \n",
    "    #Interpolated\n",
    "        plot_kahl_in_two(df_IP, \"Conduct\", \"Interpolated\")        \n",
    "    \n",
    "    elif a == 3:\n",
    "    #NA removed\n",
    "        plot_kahl(df_OG, \"Conduct\", \"NA removed\")        \n"
   ]
  },
  {
   "cell_type": "markdown",
   "id": "b00befda",
   "metadata": {},
   "source": [
    "# flow"
   ]
  },
  {
   "cell_type": "code",
   "execution_count": null,
   "id": "b4b9f5ad",
   "metadata": {},
   "outputs": [],
   "source": [
    "if station == \"erlabrunn\":\n",
    "    if a == 0:\n",
    "    #Original\n",
    "        plot_erlabrunn(df_OG, \"flow\", \"Original\")        \n",
    "    \n",
    "    elif a == 1:    \n",
    "    # Right after cleaning\n",
    "        plot_erlabrunn(df_OG, \"flow\", \"Right after cleaning\")        \n",
    "    \n",
    "    elif a == 2:    \n",
    "    #Interpolated\n",
    "        plot_erlabrunn(df_IP, \"flow\", \"Interpolated\")        \n",
    "    \n",
    "    elif a == 3:\n",
    "    #NA removed\n",
    "        plot_erlabrunn(df_OG, \"flow\", \"NA removed\")        \n",
    "\n",
    "if station == \"kahl\":\n",
    "    if a == 0:\n",
    "    #Original\n",
    "        plot_kahl_in_two(df_OG, \"flow\", \"Original\")        \n",
    "    \n",
    "    elif a == 1:    \n",
    "    # Right after cleaning\n",
    "        plot_kahl(df_OG, \"flow\", \"Right after cleaning\")        \n",
    "    \n",
    "    elif a == 2:    \n",
    "    #Interpolated\n",
    "        plot_kahl(df_IP, \"flow\", \"Interpolated\")        \n",
    "    \n",
    "    elif a == 3:\n",
    "    #NA removed\n",
    "        plot_kahl(df_OG, \"flow\", \"NA removed\")        \n"
   ]
  },
  {
   "cell_type": "markdown",
   "id": "119d62d3",
   "metadata": {},
   "source": [
    "# NO3N"
   ]
  },
  {
   "cell_type": "code",
   "execution_count": null,
   "id": "9a89d39d",
   "metadata": {},
   "outputs": [],
   "source": [
    "\n",
    "plot_erlabrunn(df_OG, \"NO3N\", \"Original\")"
   ]
  },
  {
   "cell_type": "code",
   "execution_count": null,
   "id": "371079b7",
   "metadata": {},
   "outputs": [],
   "source": [
    "plot_erlabrunn(df_OG, \"NO3N\", \"Original\")"
   ]
  },
  {
   "cell_type": "code",
   "execution_count": null,
   "id": "723d1729",
   "metadata": {},
   "outputs": [],
   "source": [
    "df_OG.loc[\"2020-11-24 08:30:00\", \"NO3N\"] = np.nan"
   ]
  },
  {
   "cell_type": "code",
   "execution_count": null,
   "id": "59f72039",
   "metadata": {},
   "outputs": [],
   "source": [
    "if station == \"erlabrunn\":\n",
    "    if a == 0:\n",
    "    #Original\n",
    "        plot_erlabrunn(df_OG, \"NO3N\", \"Original\")        \n",
    "    \n",
    "    elif a == 1:    \n",
    "    # Right after cleaning\n",
    "        plot_erlabrunn(df_OG, \"NO3N\", \"Right after cleaning\")        \n",
    "    \n",
    "    elif a == 2:    \n",
    "    #Interpolated\n",
    "        plot_erlabrunn(df_IP, \"NO3N\", \"Interpolated\")        \n",
    "    \n",
    "    elif a == 3:\n",
    "    #NA removed\n",
    "        plot_erlabrunn(df_OG, \"NO3N\", \"NA removed\")        \n",
    "\n",
    "if station == \"kahl\":\n",
    "    if a == 0:\n",
    "    #Original\n",
    "        plot_kahl_in_two(df_OG, \"NO3N\", \"Original\")        \n",
    "    \n",
    "    elif a == 1:    \n",
    "    # Right after cleaning\n",
    "        plot_kahl(df_OG, \"NO3N\", \"Right after cleaning\")        \n",
    "    \n",
    "    elif a == 2:    \n",
    "    #Interpolated\n",
    "        plot_kahl_in_two(df_IP, \"NO3N\", \"Interpolated\")        \n",
    "    \n",
    "    elif a == 3:\n",
    "    #NA removed\n",
    "        plot_kahl(df_OG, \"NO3N\", \"NA removed\")        \n"
   ]
  },
  {
   "cell_type": "markdown",
   "id": "0e1a416e",
   "metadata": {},
   "source": [
    "# OPO4P"
   ]
  },
  {
   "cell_type": "code",
   "execution_count": null,
   "id": "c98c8099",
   "metadata": {},
   "outputs": [],
   "source": [
    "if station == \"erlabrunn\":\n",
    "    if a == 0:\n",
    "    #Original\n",
    "        plot_erlabrunn(df_OG, \"OPO4P\", \"Original\")        \n",
    "    \n",
    "    elif a == 1:    \n",
    "    # Right after cleaning\n",
    "        plot_erlabrunn(df_OG, \"OPO4P\", \"Right after cleaning\")        \n",
    "    \n",
    "    elif a == 2:    \n",
    "    #Interpolated\n",
    "        plot_erlabrunn(df_IP, \"OPO4P\", \"Interpolated\")        \n",
    "    \n",
    "    elif a == 3:\n",
    "    #NA removed\n",
    "        plot_erlabrunn(df_OG, \"OPO4P\", \"NA removed\")        \n",
    "\n",
    "if station == \"kahl\" or station == \"enborne\":\n",
    "    if a == 0:\n",
    "    #Original\n",
    "        plot_kahl_in_two(df_OG, \"OPO4P\", \"Original\")        \n",
    "    \n",
    "    elif a == 1:    \n",
    "    # Right after cleaning\n",
    "        plot_kahl(df_OG, \"OPO4P\", \"Right after cleaning\")        \n",
    "    \n",
    "    elif a == 2:    \n",
    "    #Interpolated\n",
    "        plot_kahl(df_IP, \"OPO4P\", \"Interpolated\")        \n",
    "    \n",
    "    elif a == 3:\n",
    "    #NA removed\n",
    "        plot_kahl(df_OG, \"OPO4P\", \"NA removed\")        \n"
   ]
  },
  {
   "cell_type": "markdown",
   "id": "6650fa3a",
   "metadata": {},
   "source": [
    "# NH4N"
   ]
  },
  {
   "cell_type": "code",
   "execution_count": null,
   "id": "5a4b02e1",
   "metadata": {},
   "outputs": [],
   "source": [
    "if station == \"kahl\":\n",
    "    if a == 0:\n",
    "    #Original\n",
    "        \n",
    "        plot_kahl_in_two(df_OG, \"NH4N\", \"Original\")        \n",
    "    \n",
    "    elif a == 1:    \n",
    "    # Right after cleaning\n",
    "        plot_kahl(df_OG, \"NH4N\", \"Right after cleaning\")        \n",
    "    \n",
    "    elif a == 2:    \n",
    "    #Interpolated\n",
    "        plot_kahl(df_IP, \"NH4N\", \"Interpolated\")        \n",
    "    \n",
    "    elif a == 3:\n",
    "    #NA removed\n",
    "        plot_kahl(df_OG, \"NH4N\", \"NA removed\")        "
   ]
  },
  {
   "cell_type": "code",
   "execution_count": null,
   "id": "443c6dd6",
   "metadata": {},
   "outputs": [],
   "source": [
    "plot_kahl(df_OG, \"NH4N\", \"Right after cleaning\")        "
   ]
  },
  {
   "cell_type": "code",
   "execution_count": null,
   "id": "67154009",
   "metadata": {},
   "outputs": [],
   "source": [
    "if station ==\"erlabrunn\":\n",
    "    temp1 = df_TR.loc[:\"2018-12-31\"]\n",
    "    temp2 = df_TR.loc[\"2019-01-01\":]\n",
    "\n",
    "    figx = px.scatter(temp1, x = temp1.index, y=['log_Conduct', 'Temp', \"log_flow\"])\n",
    "    figx.update_xaxes(rangeslider_visible = True)\n",
    "    figx.show()\n",
    "\n",
    "    figy =px.scatter(temp2, x = temp2.index, y=['log_Conduct', 'Temp', \"log_flow\"])\n",
    "    figy.update_xaxes(rangeslider_visible = True)\n",
    "    figy.show()"
   ]
  },
  {
   "cell_type": "code",
   "execution_count": null,
   "id": "5abca569",
   "metadata": {},
   "outputs": [],
   "source": []
  },
  {
   "cell_type": "code",
   "execution_count": null,
   "id": "9ac21700",
   "metadata": {},
   "outputs": [],
   "source": []
  },
  {
   "cell_type": "code",
   "execution_count": null,
   "id": "9f1dd92d",
   "metadata": {},
   "outputs": [],
   "source": []
  },
  {
   "cell_type": "markdown",
   "id": "40fd66f6",
   "metadata": {},
   "source": [
    "# rough"
   ]
  },
  {
   "cell_type": "code",
   "execution_count": null,
   "id": "7b7ac1af",
   "metadata": {
    "scrolled": true
   },
   "outputs": [],
   "source": [
    "# for i in columns2:\n",
    "#     #Original\n",
    "#     fig = px.scatter(df_OG.reset_index(), x =\"Datum\", y= i , title =\"Original\", width=1000, height=400)\n",
    "#     fig.update_xaxes(rangeslider_visible = True)\n",
    "#     fig.show()\n",
    "    \n",
    "#     # NA removed\n",
    "# #     fig2 = px.scatter(df_NA.reset_index(), x =\"Datum\", y= i , title =\"Cleaned\", width=1000, height=400)\n",
    "# #     fig2.update_xaxes(rangeslider_visible = True)\n",
    "# #     fig2.show()\n",
    "    \n",
    "#     # Right after cleaning\n",
    "#     fig4 = px.scatter(df_DC.reset_index(), x =\"Datum\", y= i , title =\"Right after cleaning\", width=1000, height=400)\n",
    "#     fig4.update_xaxes(rangeslider_visible = True)\n",
    "#     fig4.show()\n",
    "    \n",
    "#     #Interpolated\n",
    "#     fig3 = px.scatter(df_IP.reset_index(), x =\"Datum\", y= i , title =\"Interpolated\", width=1000, height=400)\n",
    "#     fig3.update_xaxes(rangeslider_visible = True)\n",
    "#     fig3.show()"
   ]
  },
  {
   "cell_type": "code",
   "execution_count": null,
   "id": "529482ee",
   "metadata": {
    "scrolled": false
   },
   "outputs": [],
   "source": [
    "# for i in columns3:\n",
    "    \n",
    "#    #Original\n",
    "#     fig = px.scatter(df_OG.reset_index(), x =\"Datum\", y= i , title =\"Original\", width=1000, height=400)\n",
    "#     fig.update_xaxes(rangeslider_visible = True)\n",
    "#     fig.show()\n",
    "    \n",
    "#     # NA removed\n",
    "# #     fig2 = px.scatter(df_NA.reset_index(), x =\"Datum\", y= i , title =\"Cleaned\", width=1000, height=400)\n",
    "# #     fig2.update_xaxes(rangeslider_visible = True)\n",
    "# #     fig2.show()\n",
    "    \n",
    "#     # Right after cleaning\n",
    "#     fig4 = px.scatter(df_DC.reset_index(), x =\"Datum\", y= i , title =\"Right after cleaning\", width=1000, height=400)\n",
    "#     fig4.update_xaxes(rangeslider_visible = True)\n",
    "#     fig4.show()\n",
    "    \n",
    "#     #Interpolated\n",
    "# #     fig3 = px.scatter(df_IP.reset_index(), x =\"Datum\", y= i , title =\"Interpolated\", width=1000, height=400)\n",
    "# #     fig3.update_xaxes(rangeslider_visible = True)\n",
    "# #     fig3.show()"
   ]
  },
  {
   "cell_type": "markdown",
   "id": "b4ff017b",
   "metadata": {},
   "source": [
    "<!-- Cleaned -->"
   ]
  }
 ],
 "metadata": {
  "kernelspec": {
   "display_name": "Python 3",
   "language": "python",
   "name": "python3"
  },
  "language_info": {
   "codemirror_mode": {
    "name": "ipython",
    "version": 3
   },
   "file_extension": ".py",
   "mimetype": "text/x-python",
   "name": "python",
   "nbconvert_exporter": "python",
   "pygments_lexer": "ipython3",
   "version": "3.8.8"
  }
 },
 "nbformat": 4,
 "nbformat_minor": 5
}
