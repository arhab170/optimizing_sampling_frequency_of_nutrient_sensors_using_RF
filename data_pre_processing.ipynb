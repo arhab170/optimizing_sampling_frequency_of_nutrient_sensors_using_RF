{
 "cells": [
  {
   "cell_type": "code",
   "execution_count": 1,
   "id": "84484c9d",
   "metadata": {},
   "outputs": [
    {
     "name": "stderr",
     "output_type": "stream",
     "text": [
      "c:\\Users\\suvam\\miniconda3\\envs\\aie2021\\lib\\site-packages\\scipy\\__init__.py:138: UserWarning: A NumPy version >=1.16.5 and <1.23.0 is required for this version of SciPy (detected version 1.24.3)\n",
      "  warnings.warn(f\"A NumPy version >={np_minversion} and <{np_maxversion} is required for this version of \"\n"
     ]
    },
    {
     "data": {
      "application/javascript": "if (!(\"Notification\" in window)) {\n    alert(\"This browser does not support desktop notifications, so the %%notify magic will not work.\");\n} else if (Notification.permission !== 'granted' && Notification.permission !== 'denied') {\n    Notification.requestPermission(function (permission) {\n        if(!('permission' in Notification)) {\n            Notification.permission = permission;\n        }\n    })\n}\n",
      "text/plain": [
       "<IPython.core.display.Javascript object>"
      ]
     },
     "metadata": {},
     "output_type": "display_data"
    }
   ],
   "source": [
    "import pandas as pd\n",
    "import numpy as np\n",
    "from sklearn import linear_model\n",
    "from sklearn.metrics import mean_squared_error\n",
    "from sklearn.metrics import make_scorer\n",
    "import matplotlib.pyplot as plt\n",
    "from sklearn.model_selection import KFold\n",
    "import plotly.express as px\n",
    "from sklearn.ensemble import RandomForestRegressor\n",
    "import jupyternotify\n",
    "ip = get_ipython()\n",
    "ip.register_magics(jupyternotify.JupyterNotifyMagics)\n",
    "from sklearn.metrics import r2_score\n",
    "from mlxtend.evaluate import PredefinedHoldoutSplit\n"
   ]
  },
  {
   "cell_type": "code",
   "execution_count": 2,
   "id": "2828a7ad",
   "metadata": {},
   "outputs": [],
   "source": [
    "%run functions.ipynb"
   ]
  },
  {
   "cell_type": "code",
   "execution_count": 3,
   "id": "d41b5e00",
   "metadata": {},
   "outputs": [],
   "source": [
    "station = \"erlabrunn\"\n",
    "flow_station = \"erlabrunn\"\n",
    "start = \"2016-11-15\"\n",
    "end = \"2020-12-30\""
   ]
  },
  {
   "cell_type": "raw",
   "id": "c0b81a6c",
   "metadata": {},
   "source": [
    "station = \"kahl\"\n",
    "flow_station = \"steinbach\"\n",
    "start = \"2017-09-16\"\n",
    "end = \"2021-08-31\""
   ]
  },
  {
   "cell_type": "code",
   "execution_count": 4,
   "id": "3f59a94c",
   "metadata": {},
   "outputs": [],
   "source": [
    "#OPTIONS:  \"OPO4P\", \"NO3N\", \"NH4N\", \"TRP\"\n",
    "predict = \"OPO4P\"\n",
    "# OPTIONS: \"lr\", \"rf\", \n",
    "test_model = \"rf\"\n",
    "\n",
    "results = pd.DataFrame([1])"
   ]
  },
  {
   "cell_type": "code",
   "execution_count": 5,
   "id": "87e972ca",
   "metadata": {},
   "outputs": [],
   "source": [
    "if test_model == \"rf\":\n",
    "    algo = RandomForestRegressor(n_jobs = -1)\n",
    "elif test_model == \"lr\":\n",
    "    algo = linear_model.LinearRegression()"
   ]
  },
  {
   "cell_type": "code",
   "execution_count": 7,
   "id": "9f91320d",
   "metadata": {},
   "outputs": [],
   "source": [
    "df = pd.read_csv(r'./data/original_data/all_data_%s.csv' %(station))\n",
    "df['Datum'] = pd.to_datetime(df['Datum'])\n",
    "df= df.set_index(\"Datum\")\n",
    "df = df.round(2)\n",
    "# df"
   ]
  },
  {
   "cell_type": "code",
   "execution_count": 8,
   "id": "b9d09289",
   "metadata": {},
   "outputs": [],
   "source": [
    "flow = pd.read_csv(\"./data/original_data/flow_%s.csv\" %(flow_station))\n",
    "flow['Datum'] = pd.to_datetime(flow['Datum'])\n",
    "flow= flow.set_index(\"Datum\")\n",
    "flow = flow.loc[start:end]\n",
    "df = pd.concat([df, flow], axis=1)\n",
    "df = df.dropna(thresh = 3)"
   ]
  },
  {
   "cell_type": "code",
   "execution_count": 9,
   "id": "131d6223",
   "metadata": {},
   "outputs": [],
   "source": [
    "if station == \"kahl\":\n",
    "    if predict == \"OPO4P\" or predict == \"NH4N\":\n",
    "        df = df.loc[\"2019-09-02\":]"
   ]
  },
  {
   "cell_type": "code",
   "execution_count": 10,
   "id": "bcb5a0af",
   "metadata": {},
   "outputs": [
    {
     "data": {
      "text/html": [
       "<div>\n",
       "<style scoped>\n",
       "    .dataframe tbody tr th:only-of-type {\n",
       "        vertical-align: middle;\n",
       "    }\n",
       "\n",
       "    .dataframe tbody tr th {\n",
       "        vertical-align: top;\n",
       "    }\n",
       "\n",
       "    .dataframe thead th {\n",
       "        text-align: right;\n",
       "    }\n",
       "</style>\n",
       "<table border=\"1\" class=\"dataframe\">\n",
       "  <thead>\n",
       "    <tr style=\"text-align: right;\">\n",
       "      <th></th>\n",
       "      <th>O2</th>\n",
       "      <th>Temp</th>\n",
       "      <th>Conduct</th>\n",
       "      <th>pH</th>\n",
       "      <th>OPO4P</th>\n",
       "      <th>NO3N</th>\n",
       "      <th>flow</th>\n",
       "    </tr>\n",
       "  </thead>\n",
       "  <tbody>\n",
       "    <tr>\n",
       "      <th>count</th>\n",
       "      <td>136403.000000</td>\n",
       "      <td>135616.000000</td>\n",
       "      <td>135767.000000</td>\n",
       "      <td>133741.000000</td>\n",
       "      <td>130146.000000</td>\n",
       "      <td>135839.000000</td>\n",
       "      <td>27519.000000</td>\n",
       "    </tr>\n",
       "    <tr>\n",
       "      <th>mean</th>\n",
       "      <td>10.138804</td>\n",
       "      <td>13.208772</td>\n",
       "      <td>637.663208</td>\n",
       "      <td>7.942306</td>\n",
       "      <td>0.102662</td>\n",
       "      <td>3.931959</td>\n",
       "      <td>201.956957</td>\n",
       "    </tr>\n",
       "    <tr>\n",
       "      <th>std</th>\n",
       "      <td>2.143421</td>\n",
       "      <td>7.517295</td>\n",
       "      <td>83.779758</td>\n",
       "      <td>0.207624</td>\n",
       "      <td>0.082252</td>\n",
       "      <td>1.030602</td>\n",
       "      <td>89.229159</td>\n",
       "    </tr>\n",
       "    <tr>\n",
       "      <th>min</th>\n",
       "      <td>5.300000</td>\n",
       "      <td>0.100000</td>\n",
       "      <td>356.000000</td>\n",
       "      <td>7.300000</td>\n",
       "      <td>0.000000</td>\n",
       "      <td>1.500000</td>\n",
       "      <td>39.800000</td>\n",
       "    </tr>\n",
       "    <tr>\n",
       "      <th>25%</th>\n",
       "      <td>8.400000</td>\n",
       "      <td>6.100000</td>\n",
       "      <td>590.000000</td>\n",
       "      <td>7.800000</td>\n",
       "      <td>0.080000</td>\n",
       "      <td>3.100000</td>\n",
       "      <td>152.000000</td>\n",
       "    </tr>\n",
       "    <tr>\n",
       "      <th>50%</th>\n",
       "      <td>10.100000</td>\n",
       "      <td>12.700000</td>\n",
       "      <td>654.000000</td>\n",
       "      <td>7.900000</td>\n",
       "      <td>0.110000</td>\n",
       "      <td>4.000000</td>\n",
       "      <td>191.000000</td>\n",
       "    </tr>\n",
       "    <tr>\n",
       "      <th>75%</th>\n",
       "      <td>12.200000</td>\n",
       "      <td>20.400000</td>\n",
       "      <td>698.000000</td>\n",
       "      <td>8.100000</td>\n",
       "      <td>0.120000</td>\n",
       "      <td>4.700000</td>\n",
       "      <td>246.000000</td>\n",
       "    </tr>\n",
       "    <tr>\n",
       "      <th>max</th>\n",
       "      <td>19.100000</td>\n",
       "      <td>28.800000</td>\n",
       "      <td>842.000000</td>\n",
       "      <td>8.600000</td>\n",
       "      <td>3.040000</td>\n",
       "      <td>6.850000</td>\n",
       "      <td>627.000000</td>\n",
       "    </tr>\n",
       "  </tbody>\n",
       "</table>\n",
       "</div>"
      ],
      "text/plain": [
       "                  O2           Temp        Conduct             pH  \\\n",
       "count  136403.000000  135616.000000  135767.000000  133741.000000   \n",
       "mean       10.138804      13.208772     637.663208       7.942306   \n",
       "std         2.143421       7.517295      83.779758       0.207624   \n",
       "min         5.300000       0.100000     356.000000       7.300000   \n",
       "25%         8.400000       6.100000     590.000000       7.800000   \n",
       "50%        10.100000      12.700000     654.000000       7.900000   \n",
       "75%        12.200000      20.400000     698.000000       8.100000   \n",
       "max        19.100000      28.800000     842.000000       8.600000   \n",
       "\n",
       "               OPO4P           NO3N          flow  \n",
       "count  130146.000000  135839.000000  27519.000000  \n",
       "mean        0.102662       3.931959    201.956957  \n",
       "std         0.082252       1.030602     89.229159  \n",
       "min         0.000000       1.500000     39.800000  \n",
       "25%         0.080000       3.100000    152.000000  \n",
       "50%         0.110000       4.000000    191.000000  \n",
       "75%         0.120000       4.700000    246.000000  \n",
       "max         3.040000       6.850000    627.000000  "
      ]
     },
     "execution_count": 10,
     "metadata": {},
     "output_type": "execute_result"
    }
   ],
   "source": [
    "df.describe()"
   ]
  },
  {
   "cell_type": "code",
   "execution_count": 11,
   "id": "bdda77de",
   "metadata": {},
   "outputs": [],
   "source": [
    "Pre_count = count(df, \"Pre Count\")\n",
    "\n",
    "df = df[[\"O2\", \"Temp\", \"Conduct\", \"pH\", \"flow\", predict]]         \n",
    "df = df.dropna(subset=[predict])\n",
    "\n",
    "Post_count = count(df, \"Post Count\")\n",
    "\n",
    "columns = df.columns"
   ]
  },
  {
   "cell_type": "code",
   "execution_count": 12,
   "id": "ba1996b1",
   "metadata": {},
   "outputs": [
    {
     "name": "stdout",
     "output_type": "stream",
     "text": [
      "erlabrunn\n"
     ]
    },
    {
     "data": {
      "text/html": [
       "<div>\n",
       "<style scoped>\n",
       "    .dataframe tbody tr th:only-of-type {\n",
       "        vertical-align: middle;\n",
       "    }\n",
       "\n",
       "    .dataframe tbody tr th {\n",
       "        vertical-align: top;\n",
       "    }\n",
       "\n",
       "    .dataframe thead th {\n",
       "        text-align: right;\n",
       "    }\n",
       "</style>\n",
       "<table border=\"1\" class=\"dataframe\">\n",
       "  <thead>\n",
       "    <tr style=\"text-align: right;\">\n",
       "      <th></th>\n",
       "      <th>Pre Count</th>\n",
       "      <th>Post Count</th>\n",
       "      <th>Loss</th>\n",
       "      <th>Percentage Loss</th>\n",
       "    </tr>\n",
       "    <tr>\n",
       "      <th>Parameter</th>\n",
       "      <th></th>\n",
       "      <th></th>\n",
       "      <th></th>\n",
       "      <th></th>\n",
       "    </tr>\n",
       "  </thead>\n",
       "  <tbody>\n",
       "    <tr>\n",
       "      <th>O2</th>\n",
       "      <td>136403.0</td>\n",
       "      <td>130047.0</td>\n",
       "      <td>6356.0</td>\n",
       "      <td>4.659722</td>\n",
       "    </tr>\n",
       "    <tr>\n",
       "      <th>Temp</th>\n",
       "      <td>135616.0</td>\n",
       "      <td>129258.0</td>\n",
       "      <td>6358.0</td>\n",
       "      <td>4.688237</td>\n",
       "    </tr>\n",
       "    <tr>\n",
       "      <th>Conduct</th>\n",
       "      <td>135767.0</td>\n",
       "      <td>129412.0</td>\n",
       "      <td>6355.0</td>\n",
       "      <td>4.680813</td>\n",
       "    </tr>\n",
       "    <tr>\n",
       "      <th>pH</th>\n",
       "      <td>133741.0</td>\n",
       "      <td>128169.0</td>\n",
       "      <td>5572.0</td>\n",
       "      <td>4.166262</td>\n",
       "    </tr>\n",
       "    <tr>\n",
       "      <th>OPO4P</th>\n",
       "      <td>130146.0</td>\n",
       "      <td>130146.0</td>\n",
       "      <td>0.0</td>\n",
       "      <td>0.000000</td>\n",
       "    </tr>\n",
       "    <tr>\n",
       "      <th>flow</th>\n",
       "      <td>27519.0</td>\n",
       "      <td>26793.0</td>\n",
       "      <td>726.0</td>\n",
       "      <td>2.638177</td>\n",
       "    </tr>\n",
       "  </tbody>\n",
       "</table>\n",
       "</div>"
      ],
      "text/plain": [
       "           Pre Count  Post Count    Loss  Percentage Loss\n",
       "Parameter                                                \n",
       "O2          136403.0    130047.0  6356.0         4.659722\n",
       "Temp        135616.0    129258.0  6358.0         4.688237\n",
       "Conduct     135767.0    129412.0  6355.0         4.680813\n",
       "pH          133741.0    128169.0  5572.0         4.166262\n",
       "OPO4P       130146.0    130146.0     0.0         0.000000\n",
       "flow         27519.0     26793.0   726.0         2.638177"
      ]
     },
     "execution_count": 12,
     "metadata": {},
     "output_type": "execute_result"
    }
   ],
   "source": [
    "Final_data = Data_count(Pre_count, Post_count)\n",
    "print(station)\n",
    "Final_data.dropna()"
   ]
  },
  {
   "cell_type": "markdown",
   "id": "0bb96582",
   "metadata": {},
   "source": [
    "### Cleaning"
   ]
  },
  {
   "cell_type": "code",
   "execution_count": 13,
   "id": "e407c35f",
   "metadata": {},
   "outputs": [],
   "source": [
    "#ONLY FOR ERLABRUNN TO CLEAR PHOSPHATE A BIT\n",
    "if station == \"erlabrunn\":\n",
    "    if predict == \"OPO4P\":\n",
    "        para = \"OPO4P\"\n",
    "        temp = df[[para]]\n",
    "        df= df.drop([para],axis =1)\n",
    "        temp = temp[(temp[para] < 0.3)]   \n",
    "        df = pd.concat([df, temp], axis=1)\n",
    "        df = df.loc[\"2019-01-01 00:00:00\":]\n",
    "        \n",
    "            \n",
    "    if predict == \"NH4N\":\n",
    "        df['NH4N'].mask(df['NH4N'].between(-0.8, 0.001), inplace=True)    "
   ]
  },
  {
   "cell_type": "code",
   "execution_count": 14,
   "id": "16323a5b",
   "metadata": {},
   "outputs": [],
   "source": [
    "if station == \"kahl\":\n",
    "    # Conduct cleaning\n",
    "    df.loc[\"2017-11-16\": \"2017-11-22\", \"Conduct\"] = np.nan\n",
    "    df['Conduct'].mask(df['Conduct'].between(0, 350), inplace=True)\n",
    "    \n",
    "    #Temp Cleaning\n",
    "    df.loc[\"2017-11-17\": \"2017-11-21\", \"Temp\"] = np.nan\n",
    "    df.loc[\"2019-05-21 09:30:00\": \"2019-05-23 23:45:00\", \"Temp\"] = np.nan\n",
    "    \n",
    "    #O2 Cleaning\n",
    "    df.loc[\"2017-11-16 09:15:00\": \"2017-11-16 23:45:00\", \"O2\"] = np.nan\n",
    "    df.loc[\"2019-05-21 09:30:00\": \"2019-05-23 23:45:00\", \"O2\"] = np.nan\n",
    "    \n",
    "    #NO3N cleaning\n",
    "    if predict == \"NO3N\":\n",
    "        df['NO3N'].mask(df['NO3N'].between(-1, 2), inplace=True)\n",
    "        df.loc[\"2021-08-27 08:30:00\", \"NO3N\"] = np.nan\n",
    "    \n",
    "    #NH4N cleaning\n",
    "    if predict == \"NH4N\":\n",
    "        df['NH4N'].mask(df['NH4N'].between(0.5, 40), inplace=True)\n",
    "        df['NH4N'].mask(df['NH4N'].between(-0.8, 0.001), inplace=True)\n",
    "    \n",
    "    #OPO4P cleaning\n",
    "    if predict == \"OPO4P\":\n",
    "        df['OPO4P'].mask(df['OPO4P'].between(0.25, 5), inplace=True)\n",
    "        df['OPO4P'].mask(df['OPO4P'].between(-0.8, 0.001), inplace=True)    "
   ]
  },
  {
   "cell_type": "markdown",
   "id": "531eebc7",
   "metadata": {},
   "source": [
    "##### add removal , remove anomaly rows and create a dataframe"
   ]
  },
  {
   "cell_type": "markdown",
   "id": "0bb77b59",
   "metadata": {},
   "source": [
    "### Interpolation"
   ]
  },
  {
   "cell_type": "code",
   "execution_count": 16,
   "id": "32fbc976",
   "metadata": {},
   "outputs": [],
   "source": [
    "bef_interpol = df\n",
    "df = df.interpolate(limit = 30)\n",
    "df = df.dropna()\n",
    "df = df.round(2)\n",
    "# df.to_csv(r'%s_cleaned_interpolated.csv' %station, index = True, header = True)\n",
    "#     print(df)"
   ]
  },
  {
   "cell_type": "code",
   "execution_count": 17,
   "id": "cac05cae",
   "metadata": {},
   "outputs": [
    {
     "name": "stdout",
     "output_type": "stream",
     "text": [
      "anomaly\n",
      " 1    8846\n",
      "-1     983\n",
      "Name: count, dtype: int64\n"
     ]
    }
   ],
   "source": [
    "removal = 0.1\n",
    "from sklearn.ensemble import IsolationForest\n",
    "clf=IsolationForest(n_estimators=100, max_samples='auto', contamination=float(removal), \\\n",
    "                        max_features=1.0, bootstrap=False, n_jobs=-1, random_state=42, verbose=0)\n",
    "clf.fit(df)\n",
    "pred = clf.predict(df)\n",
    "df['anomaly']=pred\n",
    "outliers=df.loc[df['anomaly']==-1]\n",
    "outlier_index=list(outliers.index)\n",
    "#print(outlier_index)\n",
    "#Find the number of anomalies and normal points here points classified -1 are anomalous\n",
    "print(df['anomaly'].value_counts())\n",
    "\n",
    "df=df.loc[df['anomaly']==1]\n",
    "df= df.drop([\"anomaly\"],axis =1)"
   ]
  },
  {
   "cell_type": "markdown",
   "id": "1a313033",
   "metadata": {},
   "source": [
    "### Time as a feature"
   ]
  },
  {
   "cell_type": "code",
   "execution_count": 18,
   "id": "fb105ae2",
   "metadata": {},
   "outputs": [],
   "source": [
    "df = df.reset_index()\n",
    "df[\"Month\"] = df['Datum'].dt.month\n",
    "df['month_sin'] = np.sin(2 * np.pi * df['Month']/12)\n",
    "df['month_cos'] = np.cos(2 * np.pi * df['Month']/12)\n",
    "\n",
    "df['week_number'] = df[\"Datum\"].dt.isocalendar().week\n",
    "df[\"week_sin\"] = np.sin(2 * np.pi * df[\"week_number\"] / df[\"week_number\"].max())\n",
    "df[\"week_cos\"] = np.cos(2 * np.pi * df[\"week_number\"] / df[\"week_number\"].max())\n",
    "df= df.drop([\"Month\", \"week_number\"],axis =1)\n",
    "df = df.set_index(\"Datum\")"
   ]
  },
  {
   "cell_type": "markdown",
   "id": "1f692d69",
   "metadata": {},
   "source": [
    "### Correlation Analysis"
   ]
  },
  {
   "cell_type": "code",
   "execution_count": 20,
   "id": "15f39402",
   "metadata": {},
   "outputs": [
    {
     "name": "stdout",
     "output_type": "stream",
     "text": [
      "              OPO4P\n",
      "flow       0.249693\n",
      "pH         0.178631\n",
      "Conduct   -0.133574\n",
      "week_sin  -0.076316\n",
      "Temp       0.073824\n",
      "O2         0.054421\n",
      "month_sin -0.047108\n",
      "anomaly   -0.040862\n",
      "month_cos -0.006112\n",
      "week_cos  -0.001641\n"
     ]
    }
   ],
   "source": [
    "columns=df.columns\n",
    "corr = df.corr()\n",
    "corr = corr.loc[:,[predict]]\n",
    "corr = corr.iloc[(-corr[predict].abs()).argsort()]\n",
    "if predict == \"NO3N\":\n",
    "    corr= corr.drop([\"NO3N\"],axis =0)\n",
    "\n",
    "if predict == \"OPO4P\":\n",
    "    corr= corr.drop([\"OPO4P\"],axis =0)\n",
    "    \n",
    "if predict == \"NH4N\":\n",
    "    corr= corr.drop([\"NH4N\"],axis =0)\n",
    "    \n",
    "if predict == \"TRP\":\n",
    "    corr= corr.drop([\"TRP\", \"NO3N\"],axis =0)\n",
    "print(corr)\n",
    "corr_order = list(corr.index)"
   ]
  },
  {
   "cell_type": "code",
   "execution_count": 25,
   "id": "5f60d1eb",
   "metadata": {},
   "outputs": [],
   "source": [
    "df.to_csv(rf\".\\data\\cleaned_up_data\\{station}_{predict}_final.csv\")"
   ]
  }
 ],
 "metadata": {
  "kernelspec": {
   "display_name": "Python 3",
   "language": "python",
   "name": "python3"
  },
  "language_info": {
   "codemirror_mode": {
    "name": "ipython",
    "version": 3
   },
   "file_extension": ".py",
   "mimetype": "text/x-python",
   "name": "python",
   "nbconvert_exporter": "python",
   "pygments_lexer": "ipython3",
   "version": "3.8.8"
  }
 },
 "nbformat": 4,
 "nbformat_minor": 5
}
