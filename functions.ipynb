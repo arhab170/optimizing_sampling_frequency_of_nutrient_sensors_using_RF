{
 "cells": [
  {
   "cell_type": "code",
   "execution_count": 2,
   "id": "4bbdeff2",
   "metadata": {},
   "outputs": [],
   "source": [
    "from sklearn.metrics import make_scorer"
   ]
  },
  {
   "cell_type": "code",
   "execution_count": 21,
   "id": "2716499f",
   "metadata": {},
   "outputs": [],
   "source": [
    "def rf_to_lr(temp):\n",
    "    temp['log_flow'] = np.log(temp['flow'].astype(float))\n",
    "    temp['log_Conduct'] = np.log(temp['Conduct'].astype(float))\n",
    "    temp = temp.drop([\"flow\", \"Conduct\"],axis =1)\n",
    "    return temp\n",
    "        "
   ]
  },
  {
   "cell_type": "code",
   "execution_count": 22,
   "id": "2452b9a5",
   "metadata": {},
   "outputs": [],
   "source": [
    "def lr_to_rf(temp):\n",
    "    temp['flow'] = np.exp(temp['log_flow'].astype(float))\n",
    "    temp['Conduct'] = np.exp(temp['log_Conduct'].astype(float))\n",
    "    temp = temp.drop([\"log_flow\", \"log_Conduct\"],axis =1)\n",
    "    return temp"
   ]
  },
  {
   "cell_type": "code",
   "execution_count": 23,
   "id": "0c45fd0b",
   "metadata": {},
   "outputs": [],
   "source": [
    "def algo_runner(ss, name_regressor):\n",
    "    list_feat = ss.columns.drop(predict)\n",
    "    features = ss[list_feat]\n",
    "    label = ss[[predict]]\n",
    "\n",
    "    X = np.array(features)\n",
    "    y = np.array(label)\n",
    "\n",
    "    arr_r2 = []\n",
    "    arr_RMSE = []\n",
    "\n",
    "    if name_regressor == \"rf\":\n",
    "        model = RandomForestRegressor(n_jobs = -1)\n",
    "    elif name_regressor == \"lr\":\n",
    "        model = linear_model.LinearRegression(fit_intercept=False, normalize='deprecated', copy_X=True,\n",
    "                                              n_jobs=None, positive=True)\n",
    "\n",
    "    kf = KFold(n_splits=5)\n",
    "    for train_index, test_index in kf.split(X):\n",
    "        X_train, X_test, y_train, y_test = X[train_index], X[test_index], y[train_index], y[test_index]\n",
    "        model.fit(X_train,  y_train.ravel())\n",
    "        predictions = model.predict(X_test)\n",
    "\n",
    "        temp = r2_score(y_test, predictions)\n",
    "        arr_r2.append(temp)\n",
    "\n",
    "        temp2 = mean_squared_error(y_test, predictions, squared=False)\n",
    "        arr_RMSE.append(temp2)\n",
    "\n",
    "        r2 = np.average(arr_r2)\n",
    "        rmse = np.average(arr_RMSE)\n",
    "            \n",
    "    print(\"Rsquared\", predict, \"\\n\", r2)\n",
    "    print('RMSE ', predict, '\\n', rmse)"
   ]
  },
  {
   "cell_type": "code",
   "execution_count": 24,
   "id": "0beff50d",
   "metadata": {},
   "outputs": [],
   "source": [
    "def blank_dataframe(df_feat, predict):\n",
    "    boss_list = [x for x in df_feat.columns] \n",
    "    boss_list.append((predict))\n",
    "    boss_list.append((\"pd_\" + predict))\n",
    "\n",
    "    trial2 = pd.DataFrame(columns= boss_list)\n",
    "    return trial2"
   ]
  },
  {
   "cell_type": "code",
   "execution_count": 25,
   "id": "be9f9894",
   "metadata": {},
   "outputs": [],
   "source": [
    "def comp_cleaned_df(df_feat, cleaned_df):\n",
    "    sexxxy = df_feat.reset_index()[[\"Datum\"]]\n",
    "    cleaned_df = cleaned_df.reset_index().drop(\"index\",axis = 1)\n",
    "    trial3 = pd.concat([sexxxy, cleaned_df], axis = 1)\n",
    "    trial3 = trial3.set_index(\"Datum\")\n",
    "    return trial3"
   ]
  },
  {
   "cell_type": "code",
   "execution_count": 26,
   "id": "0fc51c45",
   "metadata": {},
   "outputs": [],
   "source": [
    "def count(df, column_string):\n",
    "    count_array = []\n",
    "    column_name = []\n",
    "    i = 0\n",
    "    while i < len(df.columns):\n",
    "        count_array.append(df.describe().iloc[0,i])\n",
    "        column_name.append(df.describe().columns[i])\n",
    "        i = i+1\n",
    "        \n",
    "    xx = pd.DataFrame({'Parameter':column_name, column_string : count_array})\n",
    "    xx= xx.set_index(\"Parameter\")\n",
    "    return xx"
   ]
  },
  {
   "cell_type": "raw",
   "id": "7c788b47",
   "metadata": {},
   "source": [
    "def r2(x,y):\n",
    "    zx = (x-np.mean(x))/np.std(x, ddof=1)\n",
    "    zy = (y-np.mean(y))/np.std(y, ddof=1)\n",
    "    r = np.sum(zx*zy)/(len(x)-1)\n",
    "    r2 = pow(r, 2)\n",
    "    return r2\n",
    "\n",
    "scorer_r2 = make_scorer(r2, greater_is_better=True)\n",
    "    \n",
    "\n",
    "def Adj_r2(x,y, major_X):\n",
    "    zx = (x-np.mean(x))/np.std(x, ddof=1)\n",
    "    zy = (y-np.mean(y))/np.std(y, ddof=1)\n",
    "    r = np.sum(zx*zy)/(len(x)-1)\n",
    "    r2 = pow(r, 2)\n",
    "    \n",
    "    # major_X.shape[1] gives to number of features that were used to make the prediction\n",
    "    return 1 - ((1-r2) * (len(x)-1)/(len(x)-major_X.shape[1]-1))\n",
    "\n",
    "\n",
    "# x = major_X\n",
    "scorer_adj_r2 = make_scorer(Adj_r2, greater_is_better=True, major_X = major_X )"
   ]
  },
  {
   "cell_type": "code",
   "execution_count": 3,
   "id": "70365595",
   "metadata": {},
   "outputs": [],
   "source": [
    "def rmse_manual(y, y_pred):\n",
    "    return mean_squared_error(y, y_pred, squared=False)\n",
    "\n",
    "scorer_rmse = make_scorer(rmse_manual, greater_is_better=True)"
   ]
  },
  {
   "cell_type": "code",
   "execution_count": 27,
   "id": "1083bc59",
   "metadata": {},
   "outputs": [],
   "source": [
    "def plotvariale(df, variable):\n",
    "    plt.figure(figsize=(14,8))\n",
    "    plt.subplot(1,2,1) ## means 1 row , 2 columns and 1st plot\n",
    "    df[variable].hist(bins=30)\n",
    "    \n",
    "    ## QQ plot\n",
    "    plt.subplot(1,2,2)\n",
    "    stats.probplot(df[variable], dist=\"norm\", plot=pylab)\n",
    "    plt.show()"
   ]
  },
  {
   "cell_type": "code",
   "execution_count": 28,
   "id": "4eadf1cf",
   "metadata": {},
   "outputs": [],
   "source": [
    "def Data_count(pre, post):\n",
    "    Data_count = pd.concat([pre, post], axis=1)\n",
    "    Data_count[\"Loss\"] = Data_count[\"Pre Count\"] - Data_count[\"Post Count\"]\n",
    "    Data_count[\"Percentage Loss\"] = Data_count[\"Loss\"]*100/Data_count[\"Pre Count\"] \n",
    "    Data_count.dropna()\n",
    "    return Data_count"
   ]
  },
  {
   "cell_type": "code",
   "execution_count": 29,
   "id": "9b67268c",
   "metadata": {},
   "outputs": [],
   "source": [
    "def plot_kahl_in_two(df, perimeter, title):\n",
    "    temp1 = df.loc[:\"2019-08-31\"]\n",
    "    temp2 = df.loc[\"2019-09-01\":]\n",
    "    fig = px.scatter(temp1.reset_index(), x =\"Datum\", y= perimeter , title =title , width=1000, height=400)\n",
    "    fig2 = px.scatter(temp2.reset_index(), x =\"Datum\", y= perimeter , title =title , width=1000, height=400)\n",
    "    fig.update_xaxes(rangeslider_visible = True)\n",
    "    fig.show()\n",
    "    fig2.update_xaxes(rangeslider_visible = True)\n",
    "    fig2.show()"
   ]
  },
  {
   "cell_type": "code",
   "execution_count": 30,
   "id": "8ec48e62",
   "metadata": {},
   "outputs": [],
   "source": [
    "def plot_kahl(df, parameter, title):\n",
    "    fig = px.scatter(df.reset_index(), x =\"Datum\", y= parameter , title = title, width=1000, height=400)\n",
    "    fig.update_xaxes(rangeslider_visible = True)\n",
    "    fig.show()"
   ]
  },
  {
   "cell_type": "code",
   "execution_count": 33,
   "id": "0b9e33cd",
   "metadata": {},
   "outputs": [],
   "source": [
    "def order_of_features(df, diction):\n",
    "    df = df[[\"feature_names\"]]\n",
    "    rows = len(df.index)\n",
    "    array = []\n",
    "    i =1\n",
    "    while i <= rows:\n",
    "        test = df.iloc[(i-1),0]\n",
    "        array.append(test)\n",
    "        i = i+1\n",
    "\n",
    "    distinct = []\n",
    "    for i in array:\n",
    "        for j in i:\n",
    "            distinct.append(j)\n",
    "\n",
    "    final_distinct = list(dict.fromkeys(distinct))\n",
    "    \n",
    "    final_array = []\n",
    "    for i in final_distinct:\n",
    "        final_array.append(diction.get(i))\n",
    "        \n",
    "    return final_array"
   ]
  },
  {
   "cell_type": "code",
   "execution_count": 32,
   "id": "49650c86",
   "metadata": {},
   "outputs": [],
   "source": [
    "def column_dict(df):\n",
    "    ss = df.columns\n",
    "    diction = {}\n",
    "    i = 0\n",
    "    while i < len(ss):\n",
    "        diction[str(i)] = ss[i]\n",
    "        i = i+1\n",
    "    return diction"
   ]
  }
 ],
 "metadata": {
  "kernelspec": {
   "display_name": "Python 3",
   "language": "python",
   "name": "python3"
  },
  "language_info": {
   "codemirror_mode": {
    "name": "ipython",
    "version": 3
   },
   "file_extension": ".py",
   "mimetype": "text/x-python",
   "name": "python",
   "nbconvert_exporter": "python",
   "pygments_lexer": "ipython3",
   "version": "3.8.8"
  }
 },
 "nbformat": 4,
 "nbformat_minor": 5
}
